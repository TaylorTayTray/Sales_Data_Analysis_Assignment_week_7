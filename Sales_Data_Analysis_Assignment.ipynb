{
 "cells": [
  {
   "cell_type": "markdown",
   "id": "6ab260b1",
   "metadata": {},
   "source": [
    "# Sales Data Analysis Assignment\n",
    "**Objective:**\n",
    "- Load and analyze a dataset using the pandas library in Python.\n",
    "- Create simple plots and charts with matplotlib and seaborn for visualizing the data."
   ]
  },
  {
   "cell_type": "code",
   "execution_count": null,
   "id": "9b0eef46",
   "metadata": {},
   "outputs": [],
   "source": [
    "import pandas as pd\n",
    "import matplotlib.pyplot as plt\n",
    "import seaborn as sns\n",
    "import numpy as np"
   ]
  },
  {
   "cell_type": "code",
   "execution_count": null,
   "id": "128219fb",
   "metadata": {},
   "outputs": [],
   "source": [
    "# Simulate a sales dataset\n",
    "data = {\n",
    "    'Date': pd.date_range(start='2025-01-01', periods=30, freq='D'),\n",
    "    'Region': np.random.choice(['North', 'South', 'East', 'West'], size=30),\n",
    "    'Sales': np.random.randint(1000, 5000, size=30),\n",
    "    'Profit': np.random.randint(100, 1000, size=30)\n",
    "}\n",
    "df = pd.DataFrame(data)\n",
    "\n",
    "# Display first 5 rows\n",
    "df.head()"
   ]
  },
  {
   "cell_type": "code",
   "execution_count": null,
   "id": "c771718a",
   "metadata": {},
   "outputs": [],
   "source": [
    "df.info()\n",
    "df.isnull().sum()"
   ]
  },
  {
   "cell_type": "code",
   "execution_count": null,
   "id": "4cc17f7a",
   "metadata": {},
   "outputs": [],
   "source": [
    "df.describe()"
   ]
  },
  {
   "cell_type": "code",
   "execution_count": null,
   "id": "6f751141",
   "metadata": {},
   "outputs": [],
   "source": [
    "region_summary = df.groupby('Region')[['Sales', 'Profit']].mean()\n",
    "region_summary"
   ]
  },
  {
   "cell_type": "code",
   "execution_count": null,
   "id": "add1e9a9",
   "metadata": {},
   "outputs": [],
   "source": [
    "plt.figure(figsize=(10,5))\n",
    "plt.plot(df['Date'], df['Sales'], marker='o', color='blue', label='Sales')\n",
    "plt.title('Daily Sales Trend')\n",
    "plt.xlabel('Date')\n",
    "plt.ylabel('Sales')\n",
    "plt.xticks(rotation=45)\n",
    "plt.legend()\n",
    "plt.tight_layout()\n",
    "plt.show()"
   ]
  },
  {
   "cell_type": "code",
   "execution_count": null,
   "id": "67ece11d",
   "metadata": {},
   "outputs": [],
   "source": [
    "sns.barplot(x=region_summary.index, y=region_summary['Sales'], palette='viridis')\n",
    "plt.title('Average Sales by Region')\n",
    "plt.xlabel('Region')\n",
    "plt.ylabel('Average Sales')\n",
    "plt.show()"
   ]
  },
  {
   "cell_type": "code",
   "execution_count": null,
   "id": "cc8aec88",
   "metadata": {},
   "outputs": [],
   "source": [
    "plt.hist(df['Profit'], bins=8, color='orange', edgecolor='black')\n",
    "plt.title('Profit Distribution')\n",
    "plt.xlabel('Profit')\n",
    "plt.ylabel('Frequency')\n",
    "plt.show()"
   ]
  },
  {
   "cell_type": "code",
   "execution_count": null,
   "id": "8b5bebd4",
   "metadata": {},
   "outputs": [],
   "source": [
    "sns.scatterplot(x='Sales', y='Profit', hue='Region', data=df, palette='deep', s=80)\n",
    "plt.title('Sales vs Profit by Region')\n",
    "plt.xlabel('Sales')\n",
    "plt.ylabel('Profit')\n",
    "plt.show()"
   ]
  },
  {
   "cell_type": "markdown",
   "id": "e3193ae5",
   "metadata": {},
   "source": [
    "### Observations:\n",
    "- Sales fluctuate daily but some regions have higher average sales.\n",
    "- Profit distribution shows most profits are in the mid-range, few extremes.\n",
    "- There is a positive relationship between sales and profit: higher sales tend to generate higher profits."
   ]
  }
 ],
 "metadata": {},
 "nbformat": 4,
 "nbformat_minor": 5
}
